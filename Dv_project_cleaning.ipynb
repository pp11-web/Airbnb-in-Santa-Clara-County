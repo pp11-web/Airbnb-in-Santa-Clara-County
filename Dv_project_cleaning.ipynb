{
 "cells": [
  {
   "cell_type": "markdown",
   "id": "c4fd43fc",
   "metadata": {},
   "source": [
    "# Title - VISUALIZING THE AIRBNB EXPERIENCE: INSIGHTS FROM DATA ANALYSIS"
   ]
  },
  {
   "cell_type": "markdown",
   "id": "eb0328e0",
   "metadata": {},
   "source": [
    "# DATA - 230 DATA VISUALIZATION FINAL PROJECT"
   ]
  },
  {
   "cell_type": "markdown",
   "id": "a599a3f4",
   "metadata": {},
   "source": [
    "# Group-5 \n",
    "# NIVEGNA LAGADAPATI \n",
    "# PRAYAG NIKUL PURANI \n",
    "# SOUJANYA SANKATHALA \n",
    "# LEELA SAI RAHUL SURYADEVARA \n",
    "# VENKATA SAI KRISHNA VELAMALA"
   ]
  },
  {
   "cell_type": "code",
   "execution_count": 2,
   "id": "c161c160",
   "metadata": {},
   "outputs": [],
   "source": [
    "import pandas as pd\n",
    "import numpy as np"
   ]
  },
  {
   "cell_type": "markdown",
   "id": "4ae26bb8",
   "metadata": {},
   "source": [
    "# Listings.CSV"
   ]
  },
  {
   "cell_type": "code",
   "execution_count": 66,
   "id": "881559e5",
   "metadata": {},
   "outputs": [],
   "source": [
    "listing  = pd.read_csv('listings.csv')"
   ]
  },
  {
   "cell_type": "code",
   "execution_count": 67,
   "id": "ef3d67be",
   "metadata": {},
   "outputs": [
    {
     "name": "stdout",
     "output_type": "stream",
     "text": [
      "<class 'pandas.core.frame.DataFrame'>\n",
      "RangeIndex: 6854 entries, 0 to 6853\n",
      "Data columns (total 18 columns):\n",
      " #   Column                          Non-Null Count  Dtype  \n",
      "---  ------                          --------------  -----  \n",
      " 0   id                              6854 non-null   int64  \n",
      " 1   name                            6854 non-null   object \n",
      " 2   host_id                         6854 non-null   int64  \n",
      " 3   host_name                       6854 non-null   object \n",
      " 4   neighbourhood_group             0 non-null      float64\n",
      " 5   neighbourhood                   6854 non-null   object \n",
      " 6   latitude                        6854 non-null   float64\n",
      " 7   longitude                       6854 non-null   float64\n",
      " 8   room_type                       6854 non-null   object \n",
      " 9   price                           6854 non-null   int64  \n",
      " 10  minimum_nights                  6854 non-null   int64  \n",
      " 11  number_of_reviews               6854 non-null   int64  \n",
      " 12  last_review                     5324 non-null   object \n",
      " 13  reviews_per_month               5324 non-null   float64\n",
      " 14  calculated_host_listings_count  6854 non-null   int64  \n",
      " 15  availability_365                6854 non-null   int64  \n",
      " 16  number_of_reviews_ltm           6854 non-null   int64  \n",
      " 17  license                         363 non-null    object \n",
      "dtypes: float64(4), int64(8), object(6)\n",
      "memory usage: 964.0+ KB\n"
     ]
    }
   ],
   "source": [
    "listing.info()"
   ]
  },
  {
   "cell_type": "code",
   "execution_count": 68,
   "id": "84eeb7ad",
   "metadata": {},
   "outputs": [
    {
     "data": {
      "text/html": [
       "<div>\n",
       "<style scoped>\n",
       "    .dataframe tbody tr th:only-of-type {\n",
       "        vertical-align: middle;\n",
       "    }\n",
       "\n",
       "    .dataframe tbody tr th {\n",
       "        vertical-align: top;\n",
       "    }\n",
       "\n",
       "    .dataframe thead th {\n",
       "        text-align: right;\n",
       "    }\n",
       "</style>\n",
       "<table border=\"1\" class=\"dataframe\">\n",
       "  <thead>\n",
       "    <tr style=\"text-align: right;\">\n",
       "      <th></th>\n",
       "      <th>id</th>\n",
       "      <th>host_id</th>\n",
       "      <th>neighbourhood_group</th>\n",
       "      <th>latitude</th>\n",
       "      <th>longitude</th>\n",
       "      <th>price</th>\n",
       "      <th>minimum_nights</th>\n",
       "      <th>number_of_reviews</th>\n",
       "      <th>reviews_per_month</th>\n",
       "      <th>calculated_host_listings_count</th>\n",
       "      <th>availability_365</th>\n",
       "      <th>number_of_reviews_ltm</th>\n",
       "    </tr>\n",
       "  </thead>\n",
       "  <tbody>\n",
       "    <tr>\n",
       "      <th>count</th>\n",
       "      <td>6.854000e+03</td>\n",
       "      <td>6.854000e+03</td>\n",
       "      <td>0.0</td>\n",
       "      <td>6854.000000</td>\n",
       "      <td>6854.000000</td>\n",
       "      <td>6854.000000</td>\n",
       "      <td>6854.000000</td>\n",
       "      <td>6854.000000</td>\n",
       "      <td>5324.000000</td>\n",
       "      <td>6854.000000</td>\n",
       "      <td>6854.000000</td>\n",
       "      <td>6854.000000</td>\n",
       "    </tr>\n",
       "    <tr>\n",
       "      <th>mean</th>\n",
       "      <td>3.590747e+17</td>\n",
       "      <td>1.789552e+08</td>\n",
       "      <td>NaN</td>\n",
       "      <td>37.348771</td>\n",
       "      <td>-121.964231</td>\n",
       "      <td>204.190692</td>\n",
       "      <td>11.860811</td>\n",
       "      <td>31.962066</td>\n",
       "      <td>1.207517</td>\n",
       "      <td>45.068281</td>\n",
       "      <td>196.488620</td>\n",
       "      <td>7.547563</td>\n",
       "    </tr>\n",
       "    <tr>\n",
       "      <th>std</th>\n",
       "      <td>4.044221e+17</td>\n",
       "      <td>1.706855e+08</td>\n",
       "      <td>NaN</td>\n",
       "      <td>0.065823</td>\n",
       "      <td>0.111290</td>\n",
       "      <td>952.410726</td>\n",
       "      <td>18.034741</td>\n",
       "      <td>64.479809</td>\n",
       "      <td>1.436986</td>\n",
       "      <td>113.234846</td>\n",
       "      <td>133.122938</td>\n",
       "      <td>13.774179</td>\n",
       "    </tr>\n",
       "    <tr>\n",
       "      <th>min</th>\n",
       "      <td>4.952000e+03</td>\n",
       "      <td>7.054000e+03</td>\n",
       "      <td>NaN</td>\n",
       "      <td>36.980150</td>\n",
       "      <td>-122.196520</td>\n",
       "      <td>10.000000</td>\n",
       "      <td>1.000000</td>\n",
       "      <td>0.000000</td>\n",
       "      <td>0.010000</td>\n",
       "      <td>1.000000</td>\n",
       "      <td>0.000000</td>\n",
       "      <td>0.000000</td>\n",
       "    </tr>\n",
       "    <tr>\n",
       "      <th>25%</th>\n",
       "      <td>3.181128e+07</td>\n",
       "      <td>3.240133e+07</td>\n",
       "      <td>NaN</td>\n",
       "      <td>37.318345</td>\n",
       "      <td>-122.045537</td>\n",
       "      <td>75.000000</td>\n",
       "      <td>1.000000</td>\n",
       "      <td>1.000000</td>\n",
       "      <td>0.260000</td>\n",
       "      <td>1.000000</td>\n",
       "      <td>76.250000</td>\n",
       "      <td>0.000000</td>\n",
       "    </tr>\n",
       "    <tr>\n",
       "      <th>50%</th>\n",
       "      <td>5.239634e+07</td>\n",
       "      <td>1.074344e+08</td>\n",
       "      <td>NaN</td>\n",
       "      <td>37.352180</td>\n",
       "      <td>-121.955680</td>\n",
       "      <td>128.000000</td>\n",
       "      <td>3.000000</td>\n",
       "      <td>7.000000</td>\n",
       "      <td>0.710000</td>\n",
       "      <td>3.000000</td>\n",
       "      <td>190.000000</td>\n",
       "      <td>2.000000</td>\n",
       "    </tr>\n",
       "    <tr>\n",
       "      <th>75%</th>\n",
       "      <td>7.951526e+17</td>\n",
       "      <td>3.058140e+08</td>\n",
       "      <td>NaN</td>\n",
       "      <td>37.396380</td>\n",
       "      <td>-121.885905</td>\n",
       "      <td>200.000000</td>\n",
       "      <td>30.000000</td>\n",
       "      <td>33.000000</td>\n",
       "      <td>1.642500</td>\n",
       "      <td>15.000000</td>\n",
       "      <td>336.000000</td>\n",
       "      <td>9.000000</td>\n",
       "    </tr>\n",
       "    <tr>\n",
       "      <th>max</th>\n",
       "      <td>9.830068e+17</td>\n",
       "      <td>5.372610e+08</td>\n",
       "      <td>NaN</td>\n",
       "      <td>37.459050</td>\n",
       "      <td>-121.509220</td>\n",
       "      <td>70794.000000</td>\n",
       "      <td>300.000000</td>\n",
       "      <td>828.000000</td>\n",
       "      <td>14.360000</td>\n",
       "      <td>451.000000</td>\n",
       "      <td>365.000000</td>\n",
       "      <td>157.000000</td>\n",
       "    </tr>\n",
       "  </tbody>\n",
       "</table>\n",
       "</div>"
      ],
      "text/plain": [
       "                 id       host_id  neighbourhood_group     latitude  \\\n",
       "count  6.854000e+03  6.854000e+03                  0.0  6854.000000   \n",
       "mean   3.590747e+17  1.789552e+08                  NaN    37.348771   \n",
       "std    4.044221e+17  1.706855e+08                  NaN     0.065823   \n",
       "min    4.952000e+03  7.054000e+03                  NaN    36.980150   \n",
       "25%    3.181128e+07  3.240133e+07                  NaN    37.318345   \n",
       "50%    5.239634e+07  1.074344e+08                  NaN    37.352180   \n",
       "75%    7.951526e+17  3.058140e+08                  NaN    37.396380   \n",
       "max    9.830068e+17  5.372610e+08                  NaN    37.459050   \n",
       "\n",
       "         longitude         price  minimum_nights  number_of_reviews  \\\n",
       "count  6854.000000   6854.000000     6854.000000        6854.000000   \n",
       "mean   -121.964231    204.190692       11.860811          31.962066   \n",
       "std       0.111290    952.410726       18.034741          64.479809   \n",
       "min    -122.196520     10.000000        1.000000           0.000000   \n",
       "25%    -122.045537     75.000000        1.000000           1.000000   \n",
       "50%    -121.955680    128.000000        3.000000           7.000000   \n",
       "75%    -121.885905    200.000000       30.000000          33.000000   \n",
       "max    -121.509220  70794.000000      300.000000         828.000000   \n",
       "\n",
       "       reviews_per_month  calculated_host_listings_count  availability_365  \\\n",
       "count        5324.000000                     6854.000000       6854.000000   \n",
       "mean            1.207517                       45.068281        196.488620   \n",
       "std             1.436986                      113.234846        133.122938   \n",
       "min             0.010000                        1.000000          0.000000   \n",
       "25%             0.260000                        1.000000         76.250000   \n",
       "50%             0.710000                        3.000000        190.000000   \n",
       "75%             1.642500                       15.000000        336.000000   \n",
       "max            14.360000                      451.000000        365.000000   \n",
       "\n",
       "       number_of_reviews_ltm  \n",
       "count            6854.000000  \n",
       "mean                7.547563  \n",
       "std                13.774179  \n",
       "min                 0.000000  \n",
       "25%                 0.000000  \n",
       "50%                 2.000000  \n",
       "75%                 9.000000  \n",
       "max               157.000000  "
      ]
     },
     "execution_count": 68,
     "metadata": {},
     "output_type": "execute_result"
    }
   ],
   "source": [
    "listing.describe()"
   ]
  },
  {
   "cell_type": "markdown",
   "id": "c9115cbb",
   "metadata": {},
   "source": [
    "# Reviews.csv"
   ]
  },
  {
   "cell_type": "code",
   "execution_count": 3,
   "id": "250ac8aa",
   "metadata": {},
   "outputs": [],
   "source": [
    "review = pd.read_csv('reviews.csv')"
   ]
  },
  {
   "cell_type": "code",
   "execution_count": 4,
   "id": "790147db",
   "metadata": {},
   "outputs": [
    {
     "name": "stdout",
     "output_type": "stream",
     "text": [
      "<class 'pandas.core.frame.DataFrame'>\n",
      "RangeIndex: 219068 entries, 0 to 219067\n",
      "Data columns (total 6 columns):\n",
      " #   Column         Non-Null Count   Dtype \n",
      "---  ------         --------------   ----- \n",
      " 0   listing_id     219068 non-null  int64 \n",
      " 1   id             219068 non-null  int64 \n",
      " 2   date           219068 non-null  object\n",
      " 3   reviewer_id    219068 non-null  int64 \n",
      " 4   reviewer_name  219067 non-null  object\n",
      " 5   comments       219014 non-null  object\n",
      "dtypes: int64(3), object(3)\n",
      "memory usage: 10.0+ MB\n"
     ]
    }
   ],
   "source": [
    "review.info()"
   ]
  },
  {
   "cell_type": "code",
   "execution_count": 5,
   "id": "8c91570d",
   "metadata": {},
   "outputs": [
    {
     "data": {
      "text/html": [
       "<div>\n",
       "<style scoped>\n",
       "    .dataframe tbody tr th:only-of-type {\n",
       "        vertical-align: middle;\n",
       "    }\n",
       "\n",
       "    .dataframe tbody tr th {\n",
       "        vertical-align: top;\n",
       "    }\n",
       "\n",
       "    .dataframe thead th {\n",
       "        text-align: right;\n",
       "    }\n",
       "</style>\n",
       "<table border=\"1\" class=\"dataframe\">\n",
       "  <thead>\n",
       "    <tr style=\"text-align: right;\">\n",
       "      <th></th>\n",
       "      <th>listing_id</th>\n",
       "      <th>id</th>\n",
       "      <th>date</th>\n",
       "      <th>reviewer_id</th>\n",
       "      <th>reviewer_name</th>\n",
       "      <th>comments</th>\n",
       "    </tr>\n",
       "  </thead>\n",
       "  <tbody>\n",
       "    <tr>\n",
       "      <th>0</th>\n",
       "      <td>4952</td>\n",
       "      <td>6560</td>\n",
       "      <td>2009-08-02</td>\n",
       "      <td>25672</td>\n",
       "      <td>Diane</td>\n",
       "      <td>Staying with Mei Lin and Ross at the Butterfly...</td>\n",
       "    </tr>\n",
       "    <tr>\n",
       "      <th>1</th>\n",
       "      <td>4952</td>\n",
       "      <td>8953</td>\n",
       "      <td>2009-09-04</td>\n",
       "      <td>27901</td>\n",
       "      <td>Michaela</td>\n",
       "      <td>I stayed with Mei Lin and Ross during a confer...</td>\n",
       "    </tr>\n",
       "    <tr>\n",
       "      <th>2</th>\n",
       "      <td>4952</td>\n",
       "      <td>13779</td>\n",
       "      <td>2009-10-16</td>\n",
       "      <td>33939</td>\n",
       "      <td>Mark</td>\n",
       "      <td>What a wonderful place to stay. Wonderful peop...</td>\n",
       "    </tr>\n",
       "    <tr>\n",
       "      <th>3</th>\n",
       "      <td>4952</td>\n",
       "      <td>19790</td>\n",
       "      <td>2009-12-10</td>\n",
       "      <td>55537</td>\n",
       "      <td>David</td>\n",
       "      <td>Convenient &amp; easy-going, which is what I needed.</td>\n",
       "    </tr>\n",
       "    <tr>\n",
       "      <th>4</th>\n",
       "      <td>4952</td>\n",
       "      <td>51096</td>\n",
       "      <td>2010-06-08</td>\n",
       "      <td>131240</td>\n",
       "      <td>SiNae</td>\n",
       "      <td>Warm and friendly folks, very helpful! Very co...</td>\n",
       "    </tr>\n",
       "  </tbody>\n",
       "</table>\n",
       "</div>"
      ],
      "text/plain": [
       "   listing_id     id        date  reviewer_id reviewer_name  \\\n",
       "0        4952   6560  2009-08-02        25672         Diane   \n",
       "1        4952   8953  2009-09-04        27901      Michaela   \n",
       "2        4952  13779  2009-10-16        33939          Mark   \n",
       "3        4952  19790  2009-12-10        55537         David   \n",
       "4        4952  51096  2010-06-08       131240         SiNae   \n",
       "\n",
       "                                            comments  \n",
       "0  Staying with Mei Lin and Ross at the Butterfly...  \n",
       "1  I stayed with Mei Lin and Ross during a confer...  \n",
       "2  What a wonderful place to stay. Wonderful peop...  \n",
       "3   Convenient & easy-going, which is what I needed.  \n",
       "4  Warm and friendly folks, very helpful! Very co...  "
      ]
     },
     "execution_count": 5,
     "metadata": {},
     "output_type": "execute_result"
    }
   ],
   "source": [
    "review.head()"
   ]
  },
  {
   "cell_type": "markdown",
   "id": "ce5bc1fd",
   "metadata": {},
   "source": [
    "# Neighbourhood.csv"
   ]
  },
  {
   "cell_type": "code",
   "execution_count": 72,
   "id": "3b1abae5",
   "metadata": {},
   "outputs": [],
   "source": [
    "neigh = pd.read_csv('neighbourhoods.csv')"
   ]
  },
  {
   "cell_type": "code",
   "execution_count": 73,
   "id": "af00b35f",
   "metadata": {},
   "outputs": [
    {
     "name": "stdout",
     "output_type": "stream",
     "text": [
      "<class 'pandas.core.frame.DataFrame'>\n",
      "RangeIndex: 16 entries, 0 to 15\n",
      "Data columns (total 2 columns):\n",
      " #   Column               Non-Null Count  Dtype  \n",
      "---  ------               --------------  -----  \n",
      " 0   neighbourhood_group  0 non-null      float64\n",
      " 1   neighbourhood        16 non-null     object \n",
      "dtypes: float64(1), object(1)\n",
      "memory usage: 384.0+ bytes\n"
     ]
    }
   ],
   "source": [
    "neigh.info()"
   ]
  },
  {
   "cell_type": "code",
   "execution_count": 74,
   "id": "8985da71",
   "metadata": {},
   "outputs": [
    {
     "data": {
      "text/html": [
       "<div>\n",
       "<style scoped>\n",
       "    .dataframe tbody tr th:only-of-type {\n",
       "        vertical-align: middle;\n",
       "    }\n",
       "\n",
       "    .dataframe tbody tr th {\n",
       "        vertical-align: top;\n",
       "    }\n",
       "\n",
       "    .dataframe thead th {\n",
       "        text-align: right;\n",
       "    }\n",
       "</style>\n",
       "<table border=\"1\" class=\"dataframe\">\n",
       "  <thead>\n",
       "    <tr style=\"text-align: right;\">\n",
       "      <th></th>\n",
       "      <th>neighbourhood_group</th>\n",
       "      <th>neighbourhood</th>\n",
       "    </tr>\n",
       "  </thead>\n",
       "  <tbody>\n",
       "    <tr>\n",
       "      <th>0</th>\n",
       "      <td>NaN</td>\n",
       "      <td>Campbell</td>\n",
       "    </tr>\n",
       "    <tr>\n",
       "      <th>1</th>\n",
       "      <td>NaN</td>\n",
       "      <td>Cupertino</td>\n",
       "    </tr>\n",
       "    <tr>\n",
       "      <th>2</th>\n",
       "      <td>NaN</td>\n",
       "      <td>Gilroy</td>\n",
       "    </tr>\n",
       "    <tr>\n",
       "      <th>3</th>\n",
       "      <td>NaN</td>\n",
       "      <td>Los Altos</td>\n",
       "    </tr>\n",
       "    <tr>\n",
       "      <th>4</th>\n",
       "      <td>NaN</td>\n",
       "      <td>Los Altos Hills</td>\n",
       "    </tr>\n",
       "  </tbody>\n",
       "</table>\n",
       "</div>"
      ],
      "text/plain": [
       "   neighbourhood_group    neighbourhood\n",
       "0                  NaN         Campbell\n",
       "1                  NaN        Cupertino\n",
       "2                  NaN           Gilroy\n",
       "3                  NaN        Los Altos\n",
       "4                  NaN  Los Altos Hills"
      ]
     },
     "execution_count": 74,
     "metadata": {},
     "output_type": "execute_result"
    }
   ],
   "source": [
    "neigh.head()"
   ]
  },
  {
   "cell_type": "markdown",
   "id": "c4ffcaa9",
   "metadata": {},
   "source": [
    "# Cleaning for listing dataset "
   ]
  },
  {
   "cell_type": "code",
   "execution_count": 75,
   "id": "87375a61",
   "metadata": {},
   "outputs": [],
   "source": [
    "# we will be removing the column named neighbourhood_group and license as this column too many missing\n",
    "columns_to_drop = ['neighbourhood_group', 'license']\n",
    "listing = listing.drop(columns=columns_to_drop)"
   ]
  },
  {
   "cell_type": "code",
   "execution_count": 76,
   "id": "9b4e86c5",
   "metadata": {},
   "outputs": [
    {
     "data": {
      "text/plain": [
       "id                                   0\n",
       "name                                 0\n",
       "host_id                              0\n",
       "host_name                            0\n",
       "neighbourhood                        0\n",
       "latitude                             0\n",
       "longitude                            0\n",
       "room_type                            0\n",
       "price                                0\n",
       "minimum_nights                       0\n",
       "number_of_reviews                    0\n",
       "last_review                       1530\n",
       "reviews_per_month                 1530\n",
       "calculated_host_listings_count       0\n",
       "availability_365                     0\n",
       "number_of_reviews_ltm                0\n",
       "dtype: int64"
      ]
     },
     "execution_count": 76,
     "metadata": {},
     "output_type": "execute_result"
    }
   ],
   "source": [
    "#Check for missing values\n",
    "missing_values = listing.isnull().sum()\n",
    "missing_values"
   ]
  },
  {
   "cell_type": "code",
   "execution_count": 77,
   "id": "11ceace4",
   "metadata": {},
   "outputs": [],
   "source": [
    "# Droping duplicates if any\n",
    "listing = listing.drop_duplicates()"
   ]
  },
  {
   "cell_type": "code",
   "execution_count": 78,
   "id": "f71d7a6a",
   "metadata": {},
   "outputs": [],
   "source": [
    "# Convert data types if needed (e.g., convert 'last_review' to datetime)\n",
    "listing['last_review'] = pd.to_datetime(listing['last_review'])"
   ]
  },
  {
   "cell_type": "code",
   "execution_count": 79,
   "id": "ecdfebbf",
   "metadata": {},
   "outputs": [
    {
     "data": {
      "text/html": [
       "<div>\n",
       "<style scoped>\n",
       "    .dataframe tbody tr th:only-of-type {\n",
       "        vertical-align: middle;\n",
       "    }\n",
       "\n",
       "    .dataframe tbody tr th {\n",
       "        vertical-align: top;\n",
       "    }\n",
       "\n",
       "    .dataframe thead th {\n",
       "        text-align: right;\n",
       "    }\n",
       "</style>\n",
       "<table border=\"1\" class=\"dataframe\">\n",
       "  <thead>\n",
       "    <tr style=\"text-align: right;\">\n",
       "      <th></th>\n",
       "      <th>id</th>\n",
       "      <th>name</th>\n",
       "      <th>host_id</th>\n",
       "      <th>host_name</th>\n",
       "      <th>neighbourhood</th>\n",
       "      <th>latitude</th>\n",
       "      <th>longitude</th>\n",
       "      <th>room_type</th>\n",
       "      <th>price</th>\n",
       "      <th>minimum_nights</th>\n",
       "      <th>number_of_reviews</th>\n",
       "      <th>last_review</th>\n",
       "      <th>reviews_per_month</th>\n",
       "      <th>calculated_host_listings_count</th>\n",
       "      <th>availability_365</th>\n",
       "      <th>number_of_reviews_ltm</th>\n",
       "    </tr>\n",
       "  </thead>\n",
       "  <tbody>\n",
       "    <tr>\n",
       "      <th>0</th>\n",
       "      <td>4952</td>\n",
       "      <td>Place to stay in Palo Alto · ★4.81 · 1 bedroom...</td>\n",
       "      <td>7054</td>\n",
       "      <td>Mei Lin</td>\n",
       "      <td>Palo Alto</td>\n",
       "      <td>37.43932</td>\n",
       "      <td>-122.15741</td>\n",
       "      <td>Private room</td>\n",
       "      <td>77</td>\n",
       "      <td>14</td>\n",
       "      <td>82</td>\n",
       "      <td>2023-08-26</td>\n",
       "      <td>0.48</td>\n",
       "      <td>5</td>\n",
       "      <td>318</td>\n",
       "      <td>6</td>\n",
       "    </tr>\n",
       "    <tr>\n",
       "      <th>1</th>\n",
       "      <td>11464</td>\n",
       "      <td>Rental unit in Santa Clara · ★4.50 · Studio · ...</td>\n",
       "      <td>42458</td>\n",
       "      <td>Emey</td>\n",
       "      <td>Santa Clara</td>\n",
       "      <td>37.34415</td>\n",
       "      <td>-121.98701</td>\n",
       "      <td>Entire home/apt</td>\n",
       "      <td>89</td>\n",
       "      <td>3</td>\n",
       "      <td>20</td>\n",
       "      <td>2023-08-05</td>\n",
       "      <td>0.18</td>\n",
       "      <td>13</td>\n",
       "      <td>56</td>\n",
       "      <td>4</td>\n",
       "    </tr>\n",
       "    <tr>\n",
       "      <th>2</th>\n",
       "      <td>21373</td>\n",
       "      <td>Place to stay in Palo Alto · ★4.87 · 1 bedroom...</td>\n",
       "      <td>7054</td>\n",
       "      <td>Mei Lin</td>\n",
       "      <td>Palo Alto</td>\n",
       "      <td>37.43972</td>\n",
       "      <td>-122.15532</td>\n",
       "      <td>Private room</td>\n",
       "      <td>77</td>\n",
       "      <td>4</td>\n",
       "      <td>268</td>\n",
       "      <td>2023-06-10</td>\n",
       "      <td>1.65</td>\n",
       "      <td>5</td>\n",
       "      <td>259</td>\n",
       "      <td>4</td>\n",
       "    </tr>\n",
       "    <tr>\n",
       "      <th>3</th>\n",
       "      <td>62799</td>\n",
       "      <td>Place to stay in Palo Alto · ★4.89 · 1 bedroom...</td>\n",
       "      <td>7054</td>\n",
       "      <td>Mei Lin</td>\n",
       "      <td>Palo Alto</td>\n",
       "      <td>37.43934</td>\n",
       "      <td>-122.15723</td>\n",
       "      <td>Private room</td>\n",
       "      <td>85</td>\n",
       "      <td>5</td>\n",
       "      <td>154</td>\n",
       "      <td>2023-06-24</td>\n",
       "      <td>1.36</td>\n",
       "      <td>5</td>\n",
       "      <td>268</td>\n",
       "      <td>5</td>\n",
       "    </tr>\n",
       "    <tr>\n",
       "      <th>4</th>\n",
       "      <td>75284</td>\n",
       "      <td>Place to stay in Palo Alto · ★4.86 · 1 bedroom...</td>\n",
       "      <td>7054</td>\n",
       "      <td>Mei Lin</td>\n",
       "      <td>Palo Alto</td>\n",
       "      <td>37.43923</td>\n",
       "      <td>-122.15745</td>\n",
       "      <td>Private room</td>\n",
       "      <td>75</td>\n",
       "      <td>14</td>\n",
       "      <td>211</td>\n",
       "      <td>2023-07-23</td>\n",
       "      <td>1.40</td>\n",
       "      <td>5</td>\n",
       "      <td>226</td>\n",
       "      <td>3</td>\n",
       "    </tr>\n",
       "  </tbody>\n",
       "</table>\n",
       "</div>"
      ],
      "text/plain": [
       "      id                                               name  host_id  \\\n",
       "0   4952  Place to stay in Palo Alto · ★4.81 · 1 bedroom...     7054   \n",
       "1  11464  Rental unit in Santa Clara · ★4.50 · Studio · ...    42458   \n",
       "2  21373  Place to stay in Palo Alto · ★4.87 · 1 bedroom...     7054   \n",
       "3  62799  Place to stay in Palo Alto · ★4.89 · 1 bedroom...     7054   \n",
       "4  75284  Place to stay in Palo Alto · ★4.86 · 1 bedroom...     7054   \n",
       "\n",
       "  host_name neighbourhood  latitude  longitude        room_type  price  \\\n",
       "0   Mei Lin     Palo Alto  37.43932 -122.15741     Private room     77   \n",
       "1      Emey   Santa Clara  37.34415 -121.98701  Entire home/apt     89   \n",
       "2   Mei Lin     Palo Alto  37.43972 -122.15532     Private room     77   \n",
       "3   Mei Lin     Palo Alto  37.43934 -122.15723     Private room     85   \n",
       "4   Mei Lin     Palo Alto  37.43923 -122.15745     Private room     75   \n",
       "\n",
       "   minimum_nights  number_of_reviews last_review  reviews_per_month  \\\n",
       "0              14                 82  2023-08-26               0.48   \n",
       "1               3                 20  2023-08-05               0.18   \n",
       "2               4                268  2023-06-10               1.65   \n",
       "3               5                154  2023-06-24               1.36   \n",
       "4              14                211  2023-07-23               1.40   \n",
       "\n",
       "   calculated_host_listings_count  availability_365  number_of_reviews_ltm  \n",
       "0                               5               318                      6  \n",
       "1                              13                56                      4  \n",
       "2                               5               259                      4  \n",
       "3                               5               268                      5  \n",
       "4                               5               226                      3  "
      ]
     },
     "execution_count": 79,
     "metadata": {},
     "output_type": "execute_result"
    }
   ],
   "source": [
    "listing.head()"
   ]
  },
  {
   "cell_type": "code",
   "execution_count": 80,
   "id": "aff4f51b",
   "metadata": {},
   "outputs": [],
   "source": [
    "listing = listing.fillna(9999-99-99)"
   ]
  },
  {
   "cell_type": "code",
   "execution_count": 81,
   "id": "0bbc94fd",
   "metadata": {},
   "outputs": [
    {
     "name": "stdout",
     "output_type": "stream",
     "text": [
      "<class 'pandas.core.frame.DataFrame'>\n",
      "Int64Index: 6854 entries, 0 to 6853\n",
      "Data columns (total 16 columns):\n",
      " #   Column                          Non-Null Count  Dtype  \n",
      "---  ------                          --------------  -----  \n",
      " 0   id                              6854 non-null   int64  \n",
      " 1   name                            6854 non-null   object \n",
      " 2   host_id                         6854 non-null   int64  \n",
      " 3   host_name                       6854 non-null   object \n",
      " 4   neighbourhood                   6854 non-null   object \n",
      " 5   latitude                        6854 non-null   float64\n",
      " 6   longitude                       6854 non-null   float64\n",
      " 7   room_type                       6854 non-null   object \n",
      " 8   price                           6854 non-null   int64  \n",
      " 9   minimum_nights                  6854 non-null   int64  \n",
      " 10  number_of_reviews               6854 non-null   int64  \n",
      " 11  last_review                     6854 non-null   object \n",
      " 12  reviews_per_month               6854 non-null   float64\n",
      " 13  calculated_host_listings_count  6854 non-null   int64  \n",
      " 14  availability_365                6854 non-null   int64  \n",
      " 15  number_of_reviews_ltm           6854 non-null   int64  \n",
      "dtypes: float64(3), int64(8), object(5)\n",
      "memory usage: 910.3+ KB\n"
     ]
    }
   ],
   "source": [
    "listing.info()"
   ]
  },
  {
   "cell_type": "code",
   "execution_count": 82,
   "id": "0b04ba8b",
   "metadata": {},
   "outputs": [],
   "source": [
    "# Save the cleaned data to a new CSV file\n",
    "listing.to_csv('cleaned_listing.csv', index=False)"
   ]
  },
  {
   "cell_type": "markdown",
   "id": "d0cdc7dd",
   "metadata": {},
   "source": [
    "# Cleaning for review dataset"
   ]
  },
  {
   "cell_type": "code",
   "execution_count": 83,
   "id": "fdbe78fc",
   "metadata": {},
   "outputs": [
    {
     "data": {
      "text/plain": [
       "listing_id    0\n",
       "date          0\n",
       "dtype: int64"
      ]
     },
     "execution_count": 83,
     "metadata": {},
     "output_type": "execute_result"
    }
   ],
   "source": [
    "# Check for missing values\n",
    "missing_values = review.isnull().sum()\n",
    "missing_values"
   ]
  },
  {
   "cell_type": "code",
   "execution_count": 84,
   "id": "b0929b98",
   "metadata": {},
   "outputs": [],
   "source": [
    "# Convert the 'date' column to a datetime format\n",
    "review['date'] = pd.to_datetime(review['date'])\n",
    "# Check for duplicates and remove them\n",
    "review = review.drop_duplicates()"
   ]
  },
  {
   "cell_type": "code",
   "execution_count": 85,
   "id": "0e86b03d",
   "metadata": {},
   "outputs": [],
   "source": [
    "# Save the cleaned data to a new CSV file\n",
    "#review.to_csv('cleaned_review.csv', index=False)"
   ]
  }
 ],
 "metadata": {
  "kernelspec": {
   "display_name": "Python 3 (ipykernel)",
   "language": "python",
   "name": "python3"
  },
  "language_info": {
   "codemirror_mode": {
    "name": "ipython",
    "version": 3
   },
   "file_extension": ".py",
   "mimetype": "text/x-python",
   "name": "python",
   "nbconvert_exporter": "python",
   "pygments_lexer": "ipython3",
   "version": "3.9.12"
  }
 },
 "nbformat": 4,
 "nbformat_minor": 5
}
